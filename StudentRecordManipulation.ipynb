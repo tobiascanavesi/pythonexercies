{
 "cells": [
  {
   "cell_type": "markdown",
   "metadata": {},
   "source": [
    "### JavaScript: Student Record Manipulation"
   ]
  },
  {
   "cell_type": "raw",
   "metadata": {},
   "source": [
    "QUESTION DESCRIPTION\n",
    "In this challenge, the task is to implement a function manipulateStudentRecord that:\n",
    "takes 4 arguments: an object literal obj, a string operation that is either \"delete\" or \"edit\", a string prop, and a string newValue.\n",
    "returns a value depending on operation:\n",
    "If operation is 'delete', then it returns a new object literal with the same properties and their values as obj has, except that if obj has property prop, then this property must not be in the returned object literal. In this case, the parameter newValue would be undefined.\n",
    "If operation is 'edit', then it returns a new object literal with the same properties and their values as obj has, except that if obj has property prop, then this property value must be updated to the newValue parameter.\n",
    " \n",
    "Your implementation of the function will be tested by a provided code stub on several input files. Each input file contains parameters for the function call. The function will be called with those parameters, and the result of its execution will be printed to the standard output by the provided code. The provided code prints the properties of the returned object ordered by their names."
   ]
  },
  {
   "cell_type": "raw",
   "metadata": {},
   "source": [
    "Input Format For Custom Testing\n",
    "The first line contains an integer, n, denoting the number of properties obj has.\n",
    "Each line i of the n subsequent lines (where 0 ≤ i < n) contains two space-separated values. The first of them is a string denoting the property of obj, and the second one is the value of that property.\n",
    "The last line contains string values for modification for obj in the format {operation} {prop} {newValue}."
   ]
  },
  {
   "cell_type": "raw",
   "metadata": {},
   "source": [
    "Sample Case 0\n",
    "Sample Input For Custom Testing\n",
    "3\n",
    "name John\n",
    "lastName Bliss\n",
    "city Florida\n",
    "edit city Seattle\n",
    "Sample Output\n",
    "city Seattle\n",
    "lastName Bliss\n",
    "name John\n",
    "Explanation\n",
    "In this test, obj has 3 properties: name, lastName, and city. The property to edit is city, so the returned object literal contains the value 'Seattle' for the property city, while the other two properties are the same as in obj."
   ]
  },
  {
   "cell_type": "raw",
   "metadata": {},
   "source": [
    "Sample Case 1\n",
    "Sample Input For Custom Testing\n",
    "3\n",
    "name John\n",
    "lastName Bliss\n",
    "city Florida\n",
    "delete city\n",
    "Sample Output\n",
    "lastName Bliss\n",
    "name John\n",
    "Explanation\n",
    "In this test, obj has 3 properties: name, lastName, and city. The property to delete is city, so the returned object literal contains properties name and lastName but does not contains city as that has been deleted."
   ]
  },
  {
   "cell_type": "code",
   "execution_count": null,
   "metadata": {},
   "outputs": [],
   "source": [
    "\n",
    "function manipulateStudentRecord(obj, operation, prop, newValue) {\n",
    "    let newObj = {}\n",
    "    for (let key in obj){\n",
    "        newObj[key] = obj[key]\n",
    "    }\n",
    "    if (obj.hasOwnProperty(prop)){\n",
    "        if (operation == 'delete'){\n",
    "            delete newObj[prop]\n",
    "        }\n",
    "        if (operation == 'edit'){\n",
    "            newObj[prop] = newValue\n",
    "        }\n",
    "    }\n",
    "    return newObj;\n",
    "}"
   ]
  }
 ],
 "metadata": {
  "kernelspec": {
   "display_name": "Python 3",
   "language": "python",
   "name": "python3"
  },
  "language_info": {
   "name": ""
  }
 },
 "nbformat": 4,
 "nbformat_minor": 4
}
