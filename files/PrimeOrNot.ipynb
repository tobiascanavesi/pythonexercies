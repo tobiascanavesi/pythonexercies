{
 "cells": [
  {
   "cell_type": "markdown",
   "metadata": {},
   "source": [
    "# Prime or Not"
   ]
  },
  {
   "cell_type": "markdown",
   "metadata": {},
   "source": [
    "#### Given an integer, if the number is prime, return 1. Otherwise return its smallest divisor greater than 1."
   ]
  },
  {
   "cell_type": "markdown",
   "metadata": {},
   "source": [
    "### Example"
   ]
  },
  {
   "cell_type": "raw",
   "metadata": {},
   "source": [
    "n = 24"
   ]
  },
  {
   "cell_type": "raw",
   "metadata": {},
   "source": [
    "The number 24 is not prime: its divisors are [1, 2, 3, 4, 6, 8, 12, 24]. The smallest divisor greater than 1 is 2."
   ]
  },
  {
   "cell_type": "markdown",
   "metadata": {},
   "source": [
    "### Function Description "
   ]
  },
  {
   "cell_type": "raw",
   "metadata": {},
   "source": [
    "isPrime has the following parameter(s):\n",
    "    long n:  a long integer to test"
   ]
  },
  {
   "cell_type": "raw",
   "metadata": {},
   "source": [
    "Returns\n",
    "    int: if the number is prime, return 1; otherwise returns the smallest divisor greater than 1"
   ]
  },
  {
   "cell_type": "markdown",
   "metadata": {},
   "source": [
    "### Constrains"
   ]
  },
  {
   "cell_type": "markdown",
   "metadata": {},
   "source": [
    "2 ≤ n ≤ 10^12"
   ]
  },
  {
   "cell_type": "markdown",
   "metadata": {},
   "source": [
    "### Sample case"
   ]
  },
  {
   "cell_type": "raw",
   "metadata": {},
   "source": [
    "STDIN      Function\n",
    "-----      --------\n",
    "4      →   n = 4"
   ]
  },
  {
   "cell_type": "raw",
   "metadata": {},
   "source": [
    "Sample Output \n",
    "2"
   ]
  },
  {
   "cell_type": "raw",
   "metadata": {},
   "source": [
    "Explanation \n",
    "Since 4 is not a prime number, and the factors of 4 are [1, 2, 4], the function returns the smallest factor of 4 greater than 1"
   ]
  },
  {
   "cell_type": "code",
   "execution_count": 45,
   "metadata": {},
   "outputs": [],
   "source": [
    "def isPrime(n):\n",
    "\n",
    "    if n > 1:\n",
    " \n",
    "    # Iterate from 2 to n / 2\n",
    "        for i in range(2, int(n/2)+1):\n",
    " \n",
    "        # If num is divisible by any number between\n",
    "        # 2 and n / 2, it is not prime\n",
    "            if (n % i) == 0:\n",
    "                \n",
    "                return i\n",
    "               # print(n,a, \"is not a prime number\")\n",
    "                break\n",
    "        else:\n",
    "         # print(n, \"is a prime number\")\n",
    "            return 1\n",
    " \n",
    "    #else:\n",
    "        #print(n, \"is not a prime number\")"
   ]
  },
  {
   "cell_type": "code",
   "execution_count": 46,
   "metadata": {},
   "outputs": [
    {
     "data": {
      "text/plain": [
       "3"
      ]
     },
     "execution_count": 46,
     "metadata": {},
     "output_type": "execute_result"
    }
   ],
   "source": [
    "isPrime(9)"
   ]
  },
  {
   "cell_type": "code",
   "execution_count": null,
   "metadata": {},
   "outputs": [],
   "source": []
  },
  {
   "cell_type": "code",
   "execution_count": null,
   "metadata": {},
   "outputs": [],
   "source": []
  }
 ],
 "metadata": {
  "kernelspec": {
   "display_name": "Python 3",
   "language": "python",
   "name": "python3"
  },
  "language_info": {
   "codemirror_mode": {
    "name": "ipython",
    "version": 3
   },
   "file_extension": ".py",
   "mimetype": "text/x-python",
   "name": "python",
   "nbconvert_exporter": "python",
   "pygments_lexer": "ipython3",
   "version": "3.7.10"
  }
 },
 "nbformat": 4,
 "nbformat_minor": 4
}
