{
 "cells": [
  {
   "cell_type": "markdown",
   "source": [
    "# Fibonacci"
   ],
   "metadata": {}
  },
  {
   "cell_type": "markdown",
   "source": [
    "The Fibonacci numbers are a sequence of numbers where each number after the first two is a sum of the prior two. As an illustration, here is a short sequence given starting values of (0, 1): Fibonacci series =  (0, 1, 1, 2, 3, 5, 8, 13).\r\n",
    " \r\n",
    "Given an integer n, calculate the first n numbers in the Fibonacci sequence given starting elements of (0, 1). Return an array of n integers, including the given (0, 1) in the sequence."
   ],
   "metadata": {}
  },
  {
   "cell_type": "markdown",
   "source": [
    "### Function Description "
   ],
   "metadata": {}
  },
  {
   "cell_type": "markdown",
   "source": [
    "Complete the function fibonacci in the editor below.\r\n",
    " \r\n",
    "fibonacci has the following parameter(s):\r\n",
    "    int n:  the length of the Fibonacci series to return\r\n",
    "Return:\r\n",
    "    int[n]: an array of n Fibonacci numbers starting with (0, 1)"
   ],
   "metadata": {}
  },
  {
   "cell_type": "markdown",
   "source": [
    "### Constraints"
   ],
   "metadata": {}
  },
  {
   "cell_type": "markdown",
   "source": [
    "1 ≤ n ≤ 10"
   ],
   "metadata": {}
  },
  {
   "cell_type": "markdown",
   "source": [
    "### Sample case"
   ],
   "metadata": {}
  },
  {
   "cell_type": "markdown",
   "source": [
    "Sample Input\r\n",
    "STDIN    Function\r\n",
    "-----    --------\r\n",
    "4    →   n = 4"
   ],
   "metadata": {}
  },
  {
   "cell_type": "markdown",
   "source": [
    "Sample Output: \r\n",
    "0\r\n",
    "1\r\n",
    "1\r\n",
    "2"
   ],
   "metadata": {}
  },
  {
   "cell_type": "code",
   "execution_count": null,
   "source": [
    "def fibonacci(n):\r\n",
    "    lista=[0,1]\r\n",
    "    listaaux=[]\r\n",
    "    if n==1:\r\n",
    "        listaaux.append(0)\r\n",
    "        return listaaux\r\n",
    "    if n==2:\r\n",
    "        listaaux.append(0)\r\n",
    "        listaaux.append(1)\r\n",
    "        return listaaux\r\n",
    "    if n>=3:\r\n",
    "        n=n-2\r\n",
    "        for i in range(n):\r\n",
    "            lista.append(lista[i+1]+lista[i])\r\n",
    "        return lista\r\n",
    "        \r\n",
    "        "
   ],
   "outputs": [],
   "metadata": {}
  },
  {
   "cell_type": "code",
   "execution_count": null,
   "source": [
    "fibonacci(10)"
   ],
   "outputs": [
    {
     "output_type": "execute_result",
     "data": {
      "text/plain": [
       "[0, 1, 1, 2, 3, 5, 8, 13, 21, 34]"
      ]
     },
     "metadata": {},
     "execution_count": 127
    }
   ],
   "metadata": {}
  },
  {
   "cell_type": "code",
   "execution_count": null,
   "source": [],
   "outputs": [],
   "metadata": {}
  },
  {
   "cell_type": "code",
   "execution_count": 42,
   "source": [],
   "outputs": [],
   "metadata": {}
  },
  {
   "cell_type": "code",
   "execution_count": null,
   "source": [],
   "outputs": [],
   "metadata": {}
  },
  {
   "cell_type": "code",
   "execution_count": null,
   "source": [],
   "outputs": [],
   "metadata": {}
  },
  {
   "cell_type": "code",
   "execution_count": null,
   "source": [],
   "outputs": [],
   "metadata": {}
  },
  {
   "cell_type": "code",
   "execution_count": null,
   "source": [],
   "outputs": [],
   "metadata": {}
  },
  {
   "cell_type": "code",
   "execution_count": null,
   "source": [],
   "outputs": [],
   "metadata": {}
  },
  {
   "cell_type": "code",
   "execution_count": null,
   "source": [],
   "outputs": [],
   "metadata": {}
  },
  {
   "cell_type": "code",
   "execution_count": null,
   "source": [],
   "outputs": [],
   "metadata": {}
  },
  {
   "cell_type": "code",
   "execution_count": null,
   "source": [],
   "outputs": [],
   "metadata": {}
  },
  {
   "cell_type": "code",
   "execution_count": null,
   "source": [],
   "outputs": [],
   "metadata": {}
  },
  {
   "cell_type": "code",
   "execution_count": null,
   "source": [],
   "outputs": [],
   "metadata": {}
  },
  {
   "cell_type": "code",
   "execution_count": null,
   "source": [],
   "outputs": [],
   "metadata": {}
  }
 ],
 "metadata": {
  "kernelspec": {
   "name": "python3",
   "display_name": "Python 3.8.10 64-bit ('datascience1': conda)"
  },
  "language_info": {
   "codemirror_mode": {
    "name": "ipython",
    "version": 3
   },
   "file_extension": ".py",
   "mimetype": "text/x-python",
   "name": "python",
   "nbconvert_exporter": "python",
   "pygments_lexer": "ipython3",
   "version": "3.8.10"
  },
  "interpreter": {
   "hash": "f0b6db1679610a0756729c824bcdbb281d165c80c57dbccc30291b71c7bf7cdb"
  }
 },
 "nbformat": 4,
 "nbformat_minor": 4
}