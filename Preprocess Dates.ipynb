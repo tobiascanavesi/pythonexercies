{
 "cells": [
  {
   "cell_type": "markdown",
   "metadata": {},
   "source": [
    "## Preprocess Dates"
   ]
  },
  {
   "cell_type": "markdown",
   "metadata": {},
   "source": [
    "On a web form, users are asked to enter dates which come in as strings. Before storing them to the database, they need to be converted to a standard date format. Write a function to convert the dates as described."
   ]
  },
  {
   "cell_type": "markdown",
   "metadata": {},
   "source": [
    "Given a date string in the format Day Month Year, where:"
   ]
  },
  {
   "cell_type": "markdown",
   "metadata": {},
   "source": [
    "* Day a string in the form \"1st\", \"2nd\", \"3rd\", \"21st\", \"22nd\", \"23rd\", \"31st\" and all others are the number + \"th\", e.g. \"4th\" or \"12th\".\n",
    "* Month is the first three letters of the English language months, like \"Jan\" for January through \"Dec\" for December.\n",
    "* Year is 4 digits ranging from 1900 to 2100."
   ]
  },
  {
   "cell_type": "markdown",
   "metadata": {},
   "source": [
    "Convert the date string \"Day Month Year\" to the date string \"YYYY-MM-DD\" in the format \"4 digit year - 2 digit month - 2 digit day\"."
   ]
  },
  {
   "cell_type": "markdown",
   "metadata": {},
   "source": [
    "### Example"
   ]
  },
  {
   "cell_type": "markdown",
   "metadata": {},
   "source": [
    "* 1st Mar 1974 → 1974-03-01"
   ]
  },
  {
   "cell_type": "markdown",
   "metadata": {},
   "source": [
    "* 22nd Jan 2013 → 2013-01-22"
   ]
  },
  {
   "cell_type": "markdown",
   "metadata": {},
   "source": [
    "* 7th Apr 1904 → 1904-04-07"
   ]
  },
  {
   "cell_type": "markdown",
   "metadata": {},
   "source": [
    "### Function Description "
   ]
  },
  {
   "cell_type": "markdown",
   "metadata": {},
   "source": [
    "Complete the function preprocessDate in the editor below."
   ]
  },
  {
   "cell_type": "raw",
   "metadata": {},
   "source": [
    "preprocessDate has the following parameter(s):\n",
    "    string dates[n]:  an array of date strings in the format Day Month Year\n",
    "Returns:\n",
    "    string[n]: array of converted date strings"
   ]
  },
  {
   "cell_type": "markdown",
   "metadata": {},
   "source": [
    "### Constraints"
   ]
  },
  {
   "cell_type": "markdown",
   "metadata": {},
   "source": [
    "* The values of Day, Month, and Year are restricted to the value ranges specified above.\n",
    "* The given dates are guaranteed to be valid, so no error handling is necessary.\n",
    "* 1 ≤ n ≤ 10^4"
   ]
  },
  {
   "cell_type": "markdown",
   "metadata": {},
   "source": [
    "### Input Format for Custom Testing"
   ]
  },
  {
   "cell_type": "raw",
   "metadata": {},
   "source": [
    "Input from stdin will be processed as follows and passed to the function. \n",
    "The first line contains an integer n, the size of the array dates.\n",
    "Each of the next n lines contains a string, dates[i] where 0 ≤ i < n."
   ]
  },
  {
   "cell_type": "markdown",
   "metadata": {},
   "source": [
    "### Sample Case 0"
   ]
  },
  {
   "cell_type": "markdown",
   "metadata": {},
   "source": [
    "#### Sample Input 0"
   ]
  },
  {
   "cell_type": "raw",
   "metadata": {},
   "source": [
    "STDIN               Function \n",
    "-----               -------- \n",
    "10              →   dates[] size n = 10\n",
    "20th Oct 2052   →   dates = [\"20th Oct 2052\", \"6th Jun 1933\", \"26th May 1960\", \"20th Sep 1958\", \"16th Mar 2068\", \"25th May                              1912\", \"16th Dec 2018\", \"26th Dec 2061\", \"4th Nov 2030\", \"28th Jul 1963\"]\n",
    "6th Jun 1933\n",
    "26th May 1960\n",
    "20th Sep 1958\n",
    "16th Mar 2068\n",
    "25th May 1912\n",
    "16th Dec 2018\n",
    "26th Dec 2061\n",
    "4th Nov 2030\n",
    "28th Jul 1963"
   ]
  },
  {
   "cell_type": "markdown",
   "metadata": {},
   "source": [
    "#### Sample Output 0"
   ]
  },
  {
   "cell_type": "raw",
   "metadata": {},
   "source": [
    "2052-10-20\n",
    "1933-06-06\n",
    "1960-05-26\n",
    "1958-09-20\n",
    "2068-03-16\n",
    "1912-05-25\n",
    "2018-12-16\n",
    "2061-12-26\n",
    "2030-11-04\n",
    "1963-07-28"
   ]
  },
  {
   "cell_type": "markdown",
   "metadata": {},
   "source": [
    "#### Explanation"
   ]
  },
  {
   "cell_type": "raw",
   "metadata": {},
   "source": [
    "The conversions are:\n",
    "20th Oct 2052 → 2052-10-20\n",
    " 6th Jun 1933 → 1933-06-06\n",
    "26th May 1960 → 1960-05-26\n",
    "20th Sep 1958 → 1958-09-20\n",
    "16th Mar 2068 → 2068-03-16\n",
    "25th May 1912 → 1912-05-25\n",
    "16th Dec 2018 → 2018-12-16\n",
    "26th Dec 2061 → 2061-12-26\n",
    " 4th Nov 2030 → 2030-11-04\n",
    "28th Jul 1963 → 1963-07-28"
   ]
  },
  {
   "cell_type": "markdown",
   "metadata": {},
   "source": [
    "The result array is [\"2052-10-20\", \"1933-06-06\", \"1960-05-26\", \"1958-09-20\", \"2068-03-16\", \"1912-05-25\", \"2018-12-16\", \"2061-12-26\", \"2030-11-04\", \"1963-07-28\"]."
   ]
  },
  {
   "cell_type": "code",
   "execution_count": 43,
   "metadata": {},
   "outputs": [],
   "source": [
    "def preprocessDate(date):\n",
    "    numberdic = {\n",
    "      \"1st\": \"01\", \"2nd\": \"02\", \"3rd\": \"03\", \"4th\" : \"04\", \"5th\" : \"05\", \"6th\" : \"06\", \"7th\" : \"07\", \"8th\" : \"08\", \"9th\" : \"09\",\"10th\" : \"10\", \"11th\" : \"11\", \"12th\" : \"12\" ,\n",
    "         \"13th\" : \"13\" ,\"14th\" : \"14\",\"15th\" : \"15\",\"16th\" : \"16\",\"17th\" : \"17\",\"18th\" : \"18\",\"19th\" : \"19\",\"20th\" : \"20\", \"21st\": \"21\", \"22nd\": \"22\", \n",
    "        \"23rd\": \"23\", \"24th\": \"24\", \"25th\": \"25\", \"26th\": \"26\", \"27th\": \"27\",\"28th\": \"28\",\"29th\": \"29\",\"30th\": \"30\", \"31st\": 31\n",
    "    }\n",
    "    monthdic= {\n",
    "        \"Jan\": \"01\", \"Feb\": \"02\", \"Mar\": \"03\", \"Apr\": \"04\", \"May\": \"05\", \"Jun\":\"06\", \"Jul\":\"07\",\"Aug\": \"08\",\"Sep\": \"09\",\n",
    "        \"Oct\": \"10\",\"Nov\":\"11\", \"Dec\": \"12\"\n",
    "    }\n",
    "    dates_aux=[]\n",
    "    for i in range(0,len(dates),1):\n",
    "        dates_aux.append(dates[i].split(sep=\" \"))\n",
    "    for i in range(0,len(dates_aux)):\n",
    "        print(dates_aux[i][2]+\"-\"+monthdic[dates_aux[i][1]]+\"-\"+numberdic[dates_aux[i][0]])\n",
    "    "
   ]
  },
  {
   "cell_type": "code",
   "execution_count": 44,
   "metadata": {},
   "outputs": [],
   "source": [
    "dates = [\"20th Oct 2052\", \"6th Jun 1933\", \"26th May 1960\", \"20th Sep 1958\", \"16th Mar 2068\", \"25th May 1912\", \"16th Dec 2018\", \"26th Dec 2061\", \"4th Nov 2030\", \"28th Jul 1963\"]"
   ]
  },
  {
   "cell_type": "code",
   "execution_count": 47,
   "metadata": {},
   "outputs": [
    {
     "name": "stdout",
     "output_type": "stream",
     "text": [
      "2052-10-20\n",
      "1933-06-06\n",
      "1960-05-26\n",
      "1958-09-20\n",
      "2068-03-16\n",
      "1912-05-25\n",
      "2018-12-16\n",
      "2061-12-26\n",
      "2030-11-04\n",
      "1963-07-28\n"
     ]
    }
   ],
   "source": [
    "preprocessDate(dates)"
   ]
  },
  {
   "cell_type": "code",
   "execution_count": null,
   "metadata": {},
   "outputs": [],
   "source": []
  }
 ],
 "metadata": {
  "kernelspec": {
   "display_name": "Python 3",
   "language": "python",
   "name": "python3"
  },
  "language_info": {
   "codemirror_mode": {
    "name": "ipython",
    "version": 3
   },
   "file_extension": ".py",
   "mimetype": "text/x-python",
   "name": "python",
   "nbconvert_exporter": "python",
   "pygments_lexer": "ipython3",
   "version": "3.7.10"
  }
 },
 "nbformat": 4,
 "nbformat_minor": 4
}
