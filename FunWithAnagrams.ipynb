{
 "cells": [
  {
   "cell_type": "markdown",
   "source": [
    "# Fun with Anagrams"
   ],
   "metadata": {}
  },
  {
   "cell_type": "markdown",
   "source": [
    "Two strings are anagrams if they are permutations of each other. In other words, both strings have the same size and the same characters. For example, \"aaagmnrs\" is an anagram of \"anagrams\". Given an array of strings, remove each string that is an anagram of an earlier string, then return the remaining array in sorted order.\n",
    " "
   ],
   "metadata": {}
  },
  {
   "cell_type": "markdown",
   "source": [
    "### Example"
   ],
   "metadata": {}
  },
  {
   "cell_type": "markdown",
   "source": [
    "str = ['code', 'doce', 'ecod', 'framer', 'frame']\n",
    " \n",
    "* \"code\" and \"doce\" are anagrams. Remove \"doce\" from the array and keep the first occurrence \"code\" in the array.\n",
    "* \"code\" and \"ecod\" are anagrams. Remove \"ecod\" from the array and keep the first occurrence \"code\" in the array.\n",
    "* \"code\" and \"framer\" are not anagrams. Keep both strings in the array.\n",
    "* \"framer\" and \"frame\" are not anagrams due to the extra 'r' in 'framer'. Keep both strings in the array.\n",
    "* Order the remaining strings in ascending order: [ \"code\",\"frame\",\"framer\"]."
   ],
   "metadata": {}
  },
  {
   "cell_type": "markdown",
   "source": [
    "### Function Description"
   ],
   "metadata": {}
  },
  {
   "cell_type": "raw",
   "source": [
    "funWithAnagrams has the following parameters:\r\n",
    "    string text[n]:  an array of strings\r\n",
    "Returns:\r\n",
    "    string[m]:  an array of the remaining strings in ascending alphabetical order,.\r\n",
    " "
   ],
   "metadata": {}
  },
  {
   "cell_type": "markdown",
   "source": [
    "### Constraints\n",
    "* 0 ≤ n ≤ 1000\n",
    "* 0 ≤ m ≤ n\n",
    "* 1 ≤ length of text[i] ≤ 1000\n",
    "* Each string text[i] is made up of characters in the range ascii[a-z]."
   ],
   "metadata": {}
  },
  {
   "cell_type": "markdown",
   "source": [
    "### Input Format For Custom Testing"
   ],
   "metadata": {}
  },
  {
   "cell_type": "raw",
   "source": [
    "The first line contains an integer, n, that denotes the number of elements in text.\r\n",
    "\r\n",
    "Each line i of the n subsequent lines (where 0 ≤ i < n) contains a string that describes text[i]."
   ],
   "metadata": {}
  },
  {
   "cell_type": "markdown",
   "source": [
    "### Sample Case 0"
   ],
   "metadata": {}
  },
  {
   "cell_type": "raw",
   "source": [
    "Sample Input For Custom Testing\r\n",
    "STDIN       Function \r\n",
    "-----       -------- \r\n",
    "4        →  n = 4\r\n",
    "code     →  text = [\"code\",\"aaagmnrs\",\"anagrams\",\"doce\"] \r\n",
    "aaagmnrs\r\n",
    "anagrams\r\n",
    "doce\r\n",
    "\r\n",
    "Sample Output\r\n",
    "aaagmnrs\r\n",
    "code"
   ],
   "metadata": {}
  },
  {
   "cell_type": "markdown",
   "source": [
    "### Explanation\n",
    "* \"code\" and \"doce\" are anagrams. Remove \"doce\" and keep the first occurrence \"code\" in the array.\n",
    "* \"aaagmnrs\" and \"anagrams\" are anagrams. Remove \"anagrams\" and keep the first occurrence \"aaagmnrs\" in the array.\n",
    "* Order the remaining strings in ascending order:  [\"aaagmnrs\", \"code\"]."
   ],
   "metadata": {}
  },
  {
   "cell_type": "markdown",
   "source": [
    "### Sample Case 1"
   ],
   "metadata": {}
  },
  {
   "cell_type": "raw",
   "source": [
    "Sample Input For Custom Testing\r\n",
    "STDIN     Function\r\n",
    "-----     --------\r\n",
    "4      →  n = 4\r\n",
    "poke   →  text = [\"poke\",\"pkoe\",\"okpe\",\"ekop\"]\r\n",
    "pkoe\r\n",
    "okpe\r\n",
    "ekop\r\n",
    "\r\n",
    "Sample Output\r\n",
    "poke"
   ],
   "metadata": {}
  },
  {
   "cell_type": "markdown",
   "source": [
    "### Explanation\n",
    "* \"poke\" and \"pkoe\" are anagrams. Remove \"pkoe\" and keep the first occurrence \"poke\"  in the array.\n",
    "* \"poke\" and \"okpe\" are anagrams. Remove \"okpe\" and keep the first occurrence \"poke\" in the array.\n",
    "* \"poke\"  and \"ekop\" are anagrams. Remove \"ekop\" and keep the first occurrence \"poke\" in the array.\n",
    "* Order the remaining strings in ascending order: [\"poke\"]."
   ],
   "metadata": {}
  },
  {
   "cell_type": "code",
   "execution_count": 91,
   "source": [
    "text=[\"poke\",\"pkoe\",\"okpe\",\"ekop\"]"
   ],
   "outputs": [],
   "metadata": {}
  },
  {
   "cell_type": "code",
   "execution_count": 92,
   "source": [
    "def funWithAnagrams(text):\r\n",
    "    # Write your code here\r\n",
    "    to_remove = []\r\n",
    "    for i, word in enumerate(text[1:]):\r\n",
    "        for previous_word in text[:i+1]:\r\n",
    "            if (\r\n",
    "                all([word.count(char) == previous_word.count(char) for char in word]) and\r\n",
    "                all([word.count(char) == previous_word.count(char) for char in previous_word])\r\n",
    "                ):\r\n",
    "                to_remove.append(word)\r\n",
    "                break\r\n",
    "    print(to_remove)\r\n",
    "    for word in to_remove:\r\n",
    "        text.remove(word)\r\n",
    "    return sorted(text)\r\n",
    "\r\n"
   ],
   "outputs": [],
   "metadata": {}
  },
  {
   "cell_type": "code",
   "execution_count": 94,
   "source": [
    "funWithAnagrams(text)"
   ],
   "outputs": [
    {
     "output_type": "stream",
     "name": "stdout",
     "text": [
      "['pkoe', 'okpe', 'ekop']\n"
     ]
    },
    {
     "output_type": "execute_result",
     "data": {
      "text/plain": [
       "['poke']"
      ]
     },
     "metadata": {},
     "execution_count": 94
    }
   ],
   "metadata": {}
  },
  {
   "cell_type": "code",
   "execution_count": 86,
   "source": [],
   "outputs": [],
   "metadata": {}
  },
  {
   "cell_type": "code",
   "execution_count": null,
   "source": [],
   "outputs": [],
   "metadata": {}
  },
  {
   "cell_type": "code",
   "execution_count": null,
   "source": [],
   "outputs": [],
   "metadata": {}
  },
  {
   "cell_type": "code",
   "execution_count": null,
   "source": [],
   "outputs": [],
   "metadata": {}
  },
  {
   "cell_type": "code",
   "execution_count": null,
   "source": [],
   "outputs": [],
   "metadata": {}
  },
  {
   "cell_type": "code",
   "execution_count": null,
   "source": [],
   "outputs": [],
   "metadata": {}
  },
  {
   "cell_type": "code",
   "execution_count": null,
   "source": [],
   "outputs": [],
   "metadata": {}
  },
  {
   "cell_type": "code",
   "execution_count": null,
   "source": [
    "\n"
   ],
   "outputs": [],
   "metadata": {}
  }
 ],
 "metadata": {
  "kernelspec": {
   "display_name": "Python 3",
   "language": "python",
   "name": "python3"
  },
  "language_info": {
   "codemirror_mode": {
    "name": "ipython",
    "version": 3
   },
   "file_extension": ".py",
   "mimetype": "text/x-python",
   "name": "python",
   "nbconvert_exporter": "python",
   "pygments_lexer": "ipython3",
   "version": "3.7.10"
  }
 },
 "nbformat": 4,
 "nbformat_minor": 4
}