{
 "cells": [
  {
   "cell_type": "markdown",
   "metadata": {},
   "source": [
    "# Fun with Anagrams"
   ]
  },
  {
   "cell_type": "markdown",
   "metadata": {},
   "source": [
    "Two strings are anagrams if they are permutations of each other. In other words, both strings have the same size and the same characters. For example, \"aaagmnrs\" is an anagram of \"anagrams\". Given an array of strings, remove each string that is an anagram of an earlier string, then return the remaining array in sorted order.\n",
    " "
   ]
  },
  {
   "cell_type": "markdown",
   "metadata": {},
   "source": [
    "### Example"
   ]
  },
  {
   "cell_type": "markdown",
   "metadata": {},
   "source": [
    "str = ['code', 'doce', 'ecod', 'framer', 'frame']\n",
    " \n",
    "* \"code\" and \"doce\" are anagrams. Remove \"doce\" from the array and keep the first occurrence \"code\" in the array.\n",
    "* \"code\" and \"ecod\" are anagrams. Remove \"ecod\" from the array and keep the first occurrence \"code\" in the array.\n",
    "* \"code\" and \"framer\" are not anagrams. Keep both strings in the array.\n",
    "* \"framer\" and \"frame\" are not anagrams due to the extra 'r' in 'framer'. Keep both strings in the array.\n",
    "* Order the remaining strings in ascending order: [ \"code\",\"frame\",\"framer\"]."
   ]
  },
  {
   "cell_type": "markdown",
   "metadata": {},
   "source": [
    "### Function Description"
   ]
  },
  {
   "cell_type": "raw",
   "metadata": {},
   "source": [
    "Complete the function funWithAnagrams in the editor below.\n",
    " \n",
    "funWithAnagrams has the following parameters:\n",
    "    string text[n]:  an array of strings\n",
    "Returns:\n",
    "    string[m]:  an array of the remaining strings in ascending alphabetical order,.\n",
    " "
   ]
  },
  {
   "cell_type": "markdown",
   "metadata": {},
   "source": [
    "### Constraints\n",
    "* 0 ≤ n ≤ 1000\n",
    "* 0 ≤ m ≤ n\n",
    "* 1 ≤ length of text[i] ≤ 1000\n",
    "* Each string text[i] is made up of characters in the range ascii[a-z]."
   ]
  },
  {
   "cell_type": "markdown",
   "metadata": {},
   "source": [
    "### Input Format For Custom Testing"
   ]
  },
  {
   "cell_type": "raw",
   "metadata": {},
   "source": [
    "The first line contains an integer, n, that denotes the number of elements in text.\n",
    "\n",
    "Each line i of the n subsequent lines (where 0 ≤ i < n) contains a string that describes text[i]."
   ]
  },
  {
   "cell_type": "markdown",
   "metadata": {},
   "source": [
    "### Sample Case 0"
   ]
  },
  {
   "cell_type": "raw",
   "metadata": {},
   "source": [
    "Sample Input For Custom Testing\n",
    "STDIN       Function \n",
    "-----       -------- \n",
    "4        →  n = 4\n",
    "code     →  text = [\"code\",\"aaagmnrs\",\"anagrams\",\"doce\"] \n",
    "aaagmnrs\n",
    "anagrams\n",
    "doce\n",
    "\n",
    "Sample Output\n",
    "aaagmnrs\n",
    "code"
   ]
  },
  {
   "cell_type": "markdown",
   "metadata": {},
   "source": [
    "### Explanation\n",
    "* \"code\" and \"doce\" are anagrams. Remove \"doce\" and keep the first occurrence \"code\" in the array.\n",
    "* \"aaagmnrs\" and \"anagrams\" are anagrams. Remove \"anagrams\" and keep the first occurrence \"aaagmnrs\" in the array.\n",
    "* Order the remaining strings in ascending order:  [\"aaagmnrs\", \"code\"]."
   ]
  },
  {
   "cell_type": "markdown",
   "metadata": {},
   "source": [
    "### Sample Case 1"
   ]
  },
  {
   "cell_type": "raw",
   "metadata": {},
   "source": [
    "Sample Input For Custom Testing\n",
    "STDIN     Function\n",
    "-----     --------\n",
    "4      →  n = 4\n",
    "poke   →  text = [\"poke\",\"pkoe\",\"okpe\",\"ekop\"]\n",
    "pkoe\n",
    "okpe\n",
    "ekop\n",
    "\n",
    "Sample Output\n",
    "poke"
   ]
  },
  {
   "cell_type": "markdown",
   "metadata": {},
   "source": [
    "### Explanation\n",
    "* \"poke\" and \"pkoe\" are anagrams. Remove \"pkoe\" and keep the first occurrence \"poke\"  in the array.\n",
    "* \"poke\" and \"okpe\" are anagrams. Remove \"okpe\" and keep the first occurrence \"poke\" in the array.\n",
    "* \"poke\"  and \"ekop\" are anagrams. Remove \"ekop\" and keep the first occurrence \"poke\" in the array.\n",
    "* Order the remaining strings in ascending order: [\"poke\"]."
   ]
  },
  {
   "cell_type": "code",
   "execution_count": 91,
   "metadata": {},
   "outputs": [],
   "source": [
    "text=[\"poke\",\"pkoe\",\"okpe\",\"ekop\"]"
   ]
  },
  {
   "cell_type": "code",
   "execution_count": 92,
   "metadata": {},
   "outputs": [],
   "source": [
    "def funWithAnagrams(text):\n",
    "    # Write your code here\n",
    "    to_remove = []\n",
    "    for i, word in enumerate(text[1:]):\n",
    "        for previous_word in text[:i+1]:\n",
    "            if (\n",
    "                all([word.count(char) == previous_word.count(char) for char in word]) and\n",
    "                all([word.count(char) == previous_word.count(char) for char in previous_word])\n",
    "                ):\n",
    "                to_remove.append(word)\n",
    "                break\n",
    "    print(to_remove)\n",
    "    for word in to_remove:\n",
    "        text.remove(word)\n",
    "    return sorted(text)\n",
    "\n"
   ]
  },
  {
   "cell_type": "code",
   "execution_count": 94,
   "metadata": {},
   "outputs": [
    {
     "name": "stdout",
     "output_type": "stream",
     "text": [
      "['pkoe', 'okpe', 'ekop']\n"
     ]
    },
    {
     "data": {
      "text/plain": [
       "['poke']"
      ]
     },
     "execution_count": 94,
     "metadata": {},
     "output_type": "execute_result"
    }
   ],
   "source": [
    "funWithAnagrams(text)\n",
    "    "
   ]
  },
  {
   "cell_type": "code",
   "execution_count": 86,
   "metadata": {},
   "outputs": [],
   "source": []
  },
  {
   "cell_type": "code",
   "execution_count": null,
   "metadata": {},
   "outputs": [],
   "source": []
  },
  {
   "cell_type": "code",
   "execution_count": null,
   "metadata": {},
   "outputs": [],
   "source": []
  },
  {
   "cell_type": "code",
   "execution_count": null,
   "metadata": {},
   "outputs": [],
   "source": []
  },
  {
   "cell_type": "code",
   "execution_count": null,
   "metadata": {},
   "outputs": [],
   "source": []
  },
  {
   "cell_type": "code",
   "execution_count": null,
   "metadata": {},
   "outputs": [],
   "source": []
  },
  {
   "cell_type": "code",
   "execution_count": null,
   "metadata": {},
   "outputs": [],
   "source": []
  },
  {
   "cell_type": "code",
   "execution_count": null,
   "metadata": {},
   "outputs": [],
   "source": [
    "\n"
   ]
  }
 ],
 "metadata": {
  "kernelspec": {
   "display_name": "Python 3",
   "language": "python",
   "name": "python3"
  },
  "language_info": {
   "codemirror_mode": {
    "name": "ipython",
    "version": 3
   },
   "file_extension": ".py",
   "mimetype": "text/x-python",
   "name": "python",
   "nbconvert_exporter": "python",
   "pygments_lexer": "ipython3",
   "version": "3.7.10"
  }
 },
 "nbformat": 4,
 "nbformat_minor": 4
}
