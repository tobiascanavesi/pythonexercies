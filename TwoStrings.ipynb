{
 "cells": [
  {
   "cell_type": "markdown",
   "source": [
    "## Two Strings"
   ],
   "metadata": {}
  },
  {
   "cell_type": "markdown",
   "source": [
    "Given two arrays of strings, determine whether corresponding elements contain a common substring."
   ],
   "metadata": {}
  },
  {
   "cell_type": "markdown",
   "source": [
    "### Example"
   ],
   "metadata": {}
  },
  {
   "cell_type": "markdown",
   "source": [
    "a = ['ab','cd','ef']\n",
    "b = ['af', 'ee', 'ef']"
   ],
   "metadata": {}
  },
  {
   "cell_type": "markdown",
   "source": [
    "Make the following decisions:"
   ],
   "metadata": {}
  },
  {
   "cell_type": "raw",
   "source": [
    "i a[i] \tb[i] \tCommon \tResult\r\n",
    "0 ab \taf \ta \tYES\r\n",
    "1 cd \tee \t\tNO\r\n",
    "2 ef \tef \tef \tYES"
   ],
   "metadata": {}
  },
  {
   "cell_type": "markdown",
   "source": [
    "For each test, print the result on a new line, either YES if there is a common substring, or NO."
   ],
   "metadata": {}
  },
  {
   "cell_type": "markdown",
   "source": [
    "### Function description"
   ],
   "metadata": {}
  },
  {
   "cell_type": "markdown",
   "source": [
    "Complete the function commonSubstring in the editor below. For each a[i], b[i] pair, the function must print YES if they share a common substring, or NO on a new line."
   ],
   "metadata": {}
  },
  {
   "cell_type": "raw",
   "source": [
    "commonSubstring has the following parameter(s):\r\n",
    "    string a[n]:  an array of strings\r\n",
    "    string b[n]:  an array of strings"
   ],
   "metadata": {}
  },
  {
   "cell_type": "markdown",
   "source": [
    "### Return"
   ],
   "metadata": {}
  },
  {
   "cell_type": "markdown",
   "source": [
    "void: output should be printed to stdout (console.log() in javascript) rather than returned"
   ],
   "metadata": {}
  },
  {
   "cell_type": "markdown",
   "source": [
    "### Constraints"
   ],
   "metadata": {}
  },
  {
   "cell_type": "markdown",
   "source": [
    "- |a| = |b|\n",
    "- 1 ≤ |a|, |b| ≤ 10^3\n",
    "- 1 ≤ |a[i]|, |b[i]| ≤ 10^4"
   ],
   "metadata": {}
  },
  {
   "cell_type": "markdown",
   "source": [
    "### Input Format for Custom Testing"
   ],
   "metadata": {}
  },
  {
   "cell_type": "markdown",
   "source": [
    "Input from stdin will be processed as follows and passed to the function.\n",
    " \n",
    "The first line contains an integer n, the size of the array a.\n",
    "Each of the next n lines contains a string a[i] where 0 ≤ i < n.\n",
    "The first line contains an integer n, the size of the array b.\n",
    "Each of the next n lines contains a string b[i] where 0 ≤ i < n."
   ],
   "metadata": {}
  },
  {
   "cell_type": "markdown",
   "source": [
    "### Sample Case 0"
   ],
   "metadata": {}
  },
  {
   "cell_type": "markdown",
   "source": [
    "#### Sample Input 1"
   ],
   "metadata": {}
  },
  {
   "cell_type": "raw",
   "source": [
    "STDIN      Function\r\n",
    "-----      --------\r\n",
    "2      →   a[] size n = 2\r\n",
    "hello  →   a = ['hello', 'hi']\r\n",
    "hi\r\n",
    "2      →   b[] size n = 2\r\n",
    "world  →   b = ['world', 'bye']\r\n",
    "bye"
   ],
   "metadata": {}
  },
  {
   "cell_type": "markdown",
   "source": [
    "#### Sample Output 1"
   ],
   "metadata": {}
  },
  {
   "cell_type": "raw",
   "source": [
    "YES\r\n",
    "NO"
   ],
   "metadata": {}
  },
  {
   "cell_type": "markdown",
   "source": [
    "#### Explanation 1"
   ],
   "metadata": {}
  },
  {
   "cell_type": "raw",
   "source": [
    "i a[i] \tb[i] \tCommon \tOutput\r\n",
    "0 hello world \to, l \tYES\r\n",
    "1 hi \tbye \t\tNO"
   ],
   "metadata": {}
  },
  {
   "cell_type": "markdown",
   "source": [
    "There are two common substrings of (a[0], b[0]): 'o' and 'l'."
   ],
   "metadata": {}
  },
  {
   "cell_type": "code",
   "execution_count": 1,
   "source": [
    "import numpy as np"
   ],
   "outputs": [],
   "metadata": {}
  },
  {
   "cell_type": "code",
   "execution_count": 5,
   "source": [
    "def commonSubstring(a,b):\r\n",
    "    common=[]\r\n",
    "    Output=[]\r\n",
    "    a_aux=a\r\n",
    "    b_aux=b\r\n",
    "    for i in range(0,len(a_aux)):\r\n",
    "        auxa=a_aux[i]\r\n",
    "        auxb=b_aux[i]\r\n",
    "        if list(set(auxa)&set(auxb))==[]:\r\n",
    "            common.append([])\r\n",
    "            Output.append(\"NO\")\r\n",
    "        elif len(a_aux) != len(b_aux):\r\n",
    "            print(\"Las listas a comparar deben tener la misma longitud\")\r\n",
    "        else:\r\n",
    "            common.append(list(set(auxa)&set(auxb)))\r\n",
    "            Output.append(\"YES\")\r\n",
    "    return common,Output"
   ],
   "outputs": [],
   "metadata": {}
  },
  {
   "cell_type": "code",
   "execution_count": 6,
   "source": [
    "commonSubstring([\"los\"],[\"sopa\",\"les\"])"
   ],
   "outputs": [
    {
     "output_type": "stream",
     "name": "stdout",
     "text": [
      "Las listas a comparar deben tener la misma longitud\n"
     ]
    },
    {
     "output_type": "execute_result",
     "data": {
      "text/plain": [
       "([], [])"
      ]
     },
     "metadata": {},
     "execution_count": 6
    }
   ],
   "metadata": {}
  },
  {
   "cell_type": "code",
   "execution_count": 7,
   "source": [
    "a = ['ab','cd','ef'] \r\n",
    "b = ['af', 'ee', 'ef']"
   ],
   "outputs": [],
   "metadata": {}
  },
  {
   "cell_type": "code",
   "execution_count": 8,
   "source": [
    "commonSubstring(a,b)"
   ],
   "outputs": [
    {
     "output_type": "execute_result",
     "data": {
      "text/plain": [
       "([['a'], [], ['f', 'e']], ['YES', 'NO', 'YES'])"
      ]
     },
     "metadata": {},
     "execution_count": 8
    }
   ],
   "metadata": {}
  },
  {
   "cell_type": "code",
   "execution_count": null,
   "source": [],
   "outputs": [],
   "metadata": {}
  },
  {
   "cell_type": "code",
   "execution_count": null,
   "source": [],
   "outputs": [],
   "metadata": {}
  }
 ],
 "metadata": {
  "kernelspec": {
   "display_name": "Python 3",
   "language": "python",
   "name": "python3"
  },
  "language_info": {
   "codemirror_mode": {
    "name": "ipython",
    "version": 3
   },
   "file_extension": ".py",
   "mimetype": "text/x-python",
   "name": "python",
   "nbconvert_exporter": "python",
   "pygments_lexer": "ipython3",
   "version": "3.7.10"
  }
 },
 "nbformat": 4,
 "nbformat_minor": 4
}