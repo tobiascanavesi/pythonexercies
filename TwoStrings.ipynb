{
 "cells": [
  {
   "cell_type": "markdown",
   "metadata": {},
   "source": [
    "## Two Strings"
   ]
  },
  {
   "cell_type": "markdown",
   "metadata": {},
   "source": [
    "Given two arrays of strings, determine whether corresponding elements contain a common substring."
   ]
  },
  {
   "cell_type": "markdown",
   "metadata": {},
   "source": [
    "### Example"
   ]
  },
  {
   "cell_type": "markdown",
   "metadata": {},
   "source": [
    "a = ['ab','cd','ef']\n",
    "b = ['af', 'ee', 'ef']"
   ]
  },
  {
   "cell_type": "markdown",
   "metadata": {},
   "source": [
    "Make the following decisions:"
   ]
  },
  {
   "cell_type": "raw",
   "metadata": {},
   "source": [
    "i a[i] \tb[i] \tCommon \tResult\n",
    "0 ab \taf \ta \tYES\n",
    "1 cd \tee \t\tNO\n",
    "2 ef \tef \tef \tYES"
   ]
  },
  {
   "cell_type": "markdown",
   "metadata": {},
   "source": [
    "For each test, print the result on a new line, either YES if there is a common substring, or NO."
   ]
  },
  {
   "cell_type": "markdown",
   "metadata": {},
   "source": [
    "### Function description"
   ]
  },
  {
   "cell_type": "markdown",
   "metadata": {},
   "source": [
    "Complete the function commonSubstring in the editor below. For each a[i], b[i] pair, the function must print YES if they share a common substring, or NO on a new line."
   ]
  },
  {
   "cell_type": "raw",
   "metadata": {},
   "source": [
    "commonSubstring has the following parameter(s):\n",
    "    string a[n]:  an array of strings\n",
    "    string b[n]:  an array of strings"
   ]
  },
  {
   "cell_type": "markdown",
   "metadata": {},
   "source": [
    "### Return"
   ]
  },
  {
   "cell_type": "markdown",
   "metadata": {},
   "source": [
    "void: output should be printed to stdout (console.log() in javascript) rather than returned"
   ]
  },
  {
   "cell_type": "markdown",
   "metadata": {},
   "source": [
    "### Constraints"
   ]
  },
  {
   "cell_type": "markdown",
   "metadata": {},
   "source": [
    "- |a| = |b|\n",
    "- 1 ≤ |a|, |b| ≤ 10^3\n",
    "- 1 ≤ |a[i]|, |b[i]| ≤ 10^4"
   ]
  },
  {
   "cell_type": "markdown",
   "metadata": {},
   "source": [
    "### Input Format for Custom Testing"
   ]
  },
  {
   "cell_type": "markdown",
   "metadata": {},
   "source": [
    "Input from stdin will be processed as follows and passed to the function.\n",
    " \n",
    "The first line contains an integer n, the size of the array a.\n",
    "Each of the next n lines contains a string a[i] where 0 ≤ i < n.\n",
    "The first line contains an integer n, the size of the array b.\n",
    "Each of the next n lines contains a string b[i] where 0 ≤ i < n."
   ]
  },
  {
   "cell_type": "markdown",
   "metadata": {},
   "source": [
    "### Sample Case 0"
   ]
  },
  {
   "cell_type": "markdown",
   "metadata": {},
   "source": [
    "#### Sample Input 1"
   ]
  },
  {
   "cell_type": "raw",
   "metadata": {},
   "source": [
    "STDIN      Function\n",
    "-----      --------\n",
    "2      →   a[] size n = 2\n",
    "hello  →   a = ['hello', 'hi']\n",
    "hi\n",
    "2      →   b[] size n = 2\n",
    "world  →   b = ['world', 'bye']\n",
    "bye"
   ]
  },
  {
   "cell_type": "markdown",
   "metadata": {},
   "source": [
    "#### Sample Output 1"
   ]
  },
  {
   "cell_type": "raw",
   "metadata": {},
   "source": [
    "YES\n",
    "NO"
   ]
  },
  {
   "cell_type": "markdown",
   "metadata": {},
   "source": [
    "#### Explanation 1"
   ]
  },
  {
   "cell_type": "raw",
   "metadata": {},
   "source": [
    "i a[i] \tb[i] \tCommon \tOutput\n",
    "0 hello world \to, l \tYES\n",
    "1 hi \tbye \t\tNO"
   ]
  },
  {
   "cell_type": "markdown",
   "metadata": {},
   "source": [
    "There are two common substrings of (a[0], b[0]): 'o' and 'l'."
   ]
  },
  {
   "cell_type": "code",
   "execution_count": 1,
   "metadata": {},
   "outputs": [],
   "source": [
    "import numpy as np"
   ]
  },
  {
   "cell_type": "code",
   "execution_count": 5,
   "metadata": {},
   "outputs": [],
   "source": [
    "def commonSubstring(a,b):\n",
    "    common=[]\n",
    "    Output=[]\n",
    "    a_aux=a\n",
    "    b_aux=b\n",
    "    for i in range(0,len(a_aux)):\n",
    "        auxa=a_aux[i]\n",
    "        auxb=b_aux[i]\n",
    "        if list(set(auxa)&set(auxb))==[]:\n",
    "            common.append([])\n",
    "            Output.append(\"NO\")\n",
    "        elif len(a_aux) != len(b_aux):\n",
    "            print(\"Las listas a comparar deben tener la misma longitud\")\n",
    "        else:\n",
    "            common.append(list(set(auxa)&set(auxb)))\n",
    "            Output.append(\"YES\")\n",
    "    return common,Output"
   ]
  },
  {
   "cell_type": "code",
   "execution_count": 6,
   "metadata": {},
   "outputs": [
    {
     "name": "stdout",
     "output_type": "stream",
     "text": [
      "Las listas a comparar deben tener la misma longitud\n"
     ]
    },
    {
     "data": {
      "text/plain": [
       "([], [])"
      ]
     },
     "execution_count": 6,
     "metadata": {},
     "output_type": "execute_result"
    }
   ],
   "source": [
    "commonSubstring([\"los\"],[\"sopa\",\"les\"])"
   ]
  },
  {
   "cell_type": "code",
   "execution_count": 7,
   "metadata": {},
   "outputs": [],
   "source": [
    "a = ['ab','cd','ef'] \n",
    "b = ['af', 'ee', 'ef']"
   ]
  },
  {
   "cell_type": "code",
   "execution_count": 8,
   "metadata": {},
   "outputs": [
    {
     "data": {
      "text/plain": [
       "([['a'], [], ['f', 'e']], ['YES', 'NO', 'YES'])"
      ]
     },
     "execution_count": 8,
     "metadata": {},
     "output_type": "execute_result"
    }
   ],
   "source": [
    "commonSubstring(a,b)"
   ]
  },
  {
   "cell_type": "code",
   "execution_count": null,
   "metadata": {},
   "outputs": [],
   "source": []
  },
  {
   "cell_type": "code",
   "execution_count": null,
   "metadata": {},
   "outputs": [],
   "source": []
  }
 ],
 "metadata": {
  "kernelspec": {
   "display_name": "Python 3",
   "language": "python",
   "name": "python3"
  },
  "language_info": {
   "codemirror_mode": {
    "name": "ipython",
    "version": 3
   },
   "file_extension": ".py",
   "mimetype": "text/x-python",
   "name": "python",
   "nbconvert_exporter": "python",
   "pygments_lexer": "ipython3",
   "version": "3.7.10"
  }
 },
 "nbformat": 4,
 "nbformat_minor": 4
}
